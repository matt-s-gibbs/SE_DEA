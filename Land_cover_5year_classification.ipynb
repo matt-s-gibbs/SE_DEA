{
 "cells": [
  {
   "cell_type": "markdown",
   "id": "5cdedb65-d616-4fe5-bf40-f80ee1befc8a",
   "metadata": {},
   "source": [
    "# Plotting animations of land cover <img align=\"right\" src=\"../Supplementary_data/dea_logo.jpg\">\n",
    "\n",
    "* [**Sign up to the DEA Sandbox**](https://docs.dea.ga.gov.au/setup/sandbox.html) to run this notebook interactively from a browser\n",
    "* **Compatibility:** Notebook currently compatible with the `DEA Sandbox` environment\n",
    "* **Products used:** \n",
    "[ga_ls_landcover_class_cyear_2](https://explorer.sandbox.dea.ga.gov.au/products/ga_ls_landcover_class_cyear_2)\n",
    "* This is a modified version of the DEA [notebook](https://github.com/GeoscienceAustralia/dea-notebooks/blob/develop/Frequently_used_code/Land_cover_animated_plots.ipynb)\n"
   ]
  },
  {
   "cell_type": "markdown",
   "id": "d784263a-72b4-462c-86e3-39548474cdac",
   "metadata": {},
   "source": [
    "## Background\n",
    "\n",
    "Land cover is the physical surface of the Earth, including trees, shrubs, grasses, soils, exposed rocks, water bodies, plantations, crops and built structures.\n",
    "Digital Earth Australia Land Cover (DEA Land Cover) is a continental dataset that maps annual land cover classifications for Australia from 1988 to the present. \n",
    "Detailed information about DEA Land Cover can be found in the [DEA Land Cover notebook](../DEA_datasets/DEA_Land_Cover.ipynb) and on the [DEA Land Cover product details](https://cmi.ga.gov.au/data-products/dea/607/dea-land-cover-landsat#details) page.\n",
    "\n",
    "This modified version is used to look at land use change in catchments in the south east of South Australia."
   ]
  },
  {
   "cell_type": "markdown",
   "id": "5a8de782-4a90-4e55-a5ae-cdaaf3c9fe1a",
   "metadata": {},
   "source": [
    "### Load packages"
   ]
  },
  {
   "cell_type": "code",
   "execution_count": 1,
   "id": "01643b78-be24-4078-a7ae-9ca49b66ea2b",
   "metadata": {},
   "outputs": [],
   "source": [
    "%matplotlib inline\n",
    "\n",
    "import math\n",
    "import os\n",
    "import sys\n",
    "\n",
    "import datacube\n",
    "import matplotlib.pyplot as plt\n",
    "import numpy as np\n",
    "import pandas as pd\n",
    "import xarray as xr\n",
    "import geopandas as gpd\n",
    "from xrspatial.classify import reclassify #in a terminal (add a new tab, blue plus button):  pip install xarray-spatial\n",
    "\n",
    "sys.path.insert(1, os.path.abspath(\"../Tools\"))\n",
    "from dea_tools.landcover import lc_animation, plot_land_cover\n",
    "from dea_tools.plotting import display_map\n",
    "from dea_tools.spatial import xr_rasterize\n",
    "from dea_tools.plotting import rgb, map_shapefile\n",
    "\n",
    "from datacube.utils.cog import write_cog"
   ]
  },
  {
   "cell_type": "markdown",
   "id": "186bf39d-ac8d-4ada-ab20-7bcab75df5c4",
   "metadata": {},
   "source": [
    "### Connect to the datacube\n",
    "Connect to the datacube so we can access DEA data. "
   ]
  },
  {
   "cell_type": "code",
   "execution_count": 2,
   "id": "4a937139-9f87-4316-8f4f-3e5e42a34c12",
   "metadata": {},
   "outputs": [],
   "source": [
    "dc = datacube.Datacube(app=\"Land_cover_animated_plots\")"
   ]
  },
  {
   "cell_type": "markdown",
   "id": "276ab21f-7908-4ae6-b922-0861374fcfa3",
   "metadata": {},
   "source": [
    "### Create query and load a time series of land cover data"
   ]
  },
  {
   "cell_type": "markdown",
   "id": "5f29c79a-a372-48dc-b4f2-8d4b272d8f3e",
   "metadata": {},
   "source": [
    "In order to generate animations of DEA Land Cover, we first need to load a time series of data for an area. \n",
    "As an example, let's load both the base 6-class classification (Level 3) layer and the full classification (Level 4) layer based on a shapefile bounding box."
   ]
  },
  {
   "cell_type": "code",
   "execution_count": 3,
   "id": "7d6a3ae3-fb45-4f72-b5e8-89b64cdc6b4e",
   "metadata": {},
   "outputs": [
    {
     "data": {
      "text/html": [
       "<div style=\"width:100%;\"><div style=\"position:relative;width:100%;height:0;padding-bottom:60%;\"><span style=\"color:#565656\">Make this Notebook Trusted to load map: File -> Trust Notebook</span><iframe srcdoc=\"&lt;!DOCTYPE html&gt;\n",
       "&lt;head&gt;    \n",
       "    &lt;meta http-equiv=&quot;content-type&quot; content=&quot;text/html; charset=UTF-8&quot; /&gt;\n",
       "    \n",
       "        &lt;script&gt;\n",
       "            L_NO_TOUCH = false;\n",
       "            L_DISABLE_3D = false;\n",
       "        &lt;/script&gt;\n",
       "    \n",
       "    &lt;style&gt;html, body {width: 100%;height: 100%;margin: 0;padding: 0;}&lt;/style&gt;\n",
       "    &lt;style&gt;#map {position:absolute;top:0;bottom:0;right:0;left:0;}&lt;/style&gt;\n",
       "    &lt;script src=&quot;https://cdn.jsdelivr.net/npm/leaflet@1.6.0/dist/leaflet.js&quot;&gt;&lt;/script&gt;\n",
       "    &lt;script src=&quot;https://code.jquery.com/jquery-1.12.4.min.js&quot;&gt;&lt;/script&gt;\n",
       "    &lt;script src=&quot;https://maxcdn.bootstrapcdn.com/bootstrap/3.2.0/js/bootstrap.min.js&quot;&gt;&lt;/script&gt;\n",
       "    &lt;script src=&quot;https://cdnjs.cloudflare.com/ajax/libs/Leaflet.awesome-markers/2.0.2/leaflet.awesome-markers.js&quot;&gt;&lt;/script&gt;\n",
       "    &lt;link rel=&quot;stylesheet&quot; href=&quot;https://cdn.jsdelivr.net/npm/leaflet@1.6.0/dist/leaflet.css&quot;/&gt;\n",
       "    &lt;link rel=&quot;stylesheet&quot; href=&quot;https://maxcdn.bootstrapcdn.com/bootstrap/3.2.0/css/bootstrap.min.css&quot;/&gt;\n",
       "    &lt;link rel=&quot;stylesheet&quot; href=&quot;https://maxcdn.bootstrapcdn.com/bootstrap/3.2.0/css/bootstrap-theme.min.css&quot;/&gt;\n",
       "    &lt;link rel=&quot;stylesheet&quot; href=&quot;https://maxcdn.bootstrapcdn.com/font-awesome/4.6.3/css/font-awesome.min.css&quot;/&gt;\n",
       "    &lt;link rel=&quot;stylesheet&quot; href=&quot;https://cdnjs.cloudflare.com/ajax/libs/Leaflet.awesome-markers/2.0.2/leaflet.awesome-markers.css&quot;/&gt;\n",
       "    &lt;link rel=&quot;stylesheet&quot; href=&quot;https://cdn.jsdelivr.net/gh/python-visualization/folium/folium/templates/leaflet.awesome.rotate.min.css&quot;/&gt;\n",
       "    \n",
       "            &lt;meta name=&quot;viewport&quot; content=&quot;width=device-width,\n",
       "                initial-scale=1.0, maximum-scale=1.0, user-scalable=no&quot; /&gt;\n",
       "            &lt;style&gt;\n",
       "                #map_8ae41f91c075ac9bffda12cc8f18e3fd {\n",
       "                    position: relative;\n",
       "                    width: 100.0%;\n",
       "                    height: 100.0%;\n",
       "                    left: 0.0%;\n",
       "                    top: 0.0%;\n",
       "                }\n",
       "            &lt;/style&gt;\n",
       "        \n",
       "&lt;/head&gt;\n",
       "&lt;body&gt;    \n",
       "    \n",
       "            &lt;div class=&quot;folium-map&quot; id=&quot;map_8ae41f91c075ac9bffda12cc8f18e3fd&quot; &gt;&lt;/div&gt;\n",
       "        \n",
       "&lt;/body&gt;\n",
       "&lt;script&gt;    \n",
       "    \n",
       "            var map_8ae41f91c075ac9bffda12cc8f18e3fd = L.map(\n",
       "                &quot;map_8ae41f91c075ac9bffda12cc8f18e3fd&quot;,\n",
       "                {\n",
       "                    center: [-37.50340986649503, 140.5325106913739],\n",
       "                    crs: L.CRS.EPSG3857,\n",
       "                    zoom: 8,\n",
       "                    zoomControl: true,\n",
       "                    preferCanvas: false,\n",
       "                }\n",
       "            );\n",
       "\n",
       "            \n",
       "\n",
       "        \n",
       "    \n",
       "            var tile_layer_c4decdff40bc8ac099c206f77eb9a376 = L.tileLayer(\n",
       "                &quot;http://mt1.google.com/vt/lyrs=y\\u0026z={z}\\u0026x={x}\\u0026y={y}&quot;,\n",
       "                {&quot;attribution&quot;: &quot;Google&quot;, &quot;detectRetina&quot;: false, &quot;maxNativeZoom&quot;: 18, &quot;maxZoom&quot;: 18, &quot;minZoom&quot;: 0, &quot;noWrap&quot;: false, &quot;opacity&quot;: 1, &quot;subdomains&quot;: &quot;abc&quot;, &quot;tms&quot;: false}\n",
       "            ).addTo(map_8ae41f91c075ac9bffda12cc8f18e3fd);\n",
       "        \n",
       "    \n",
       "            var poly_line_e355c53cfd5f89dc4aa0bf270b5a5b80 = L.polyline(\n",
       "                [[-38.11895730145432, 139.7399818841844], [-38.11895730145432, 141.32503949856337], [-36.887862431535744, 141.32503949856337], [-36.887862431535744, 139.7399818841844], [-38.11895730145432, 139.7399818841844]],\n",
       "                {&quot;bubblingMouseEvents&quot;: true, &quot;color&quot;: &quot;red&quot;, &quot;dashArray&quot;: null, &quot;dashOffset&quot;: null, &quot;fill&quot;: false, &quot;fillColor&quot;: &quot;red&quot;, &quot;fillOpacity&quot;: 0.2, &quot;fillRule&quot;: &quot;evenodd&quot;, &quot;lineCap&quot;: &quot;round&quot;, &quot;lineJoin&quot;: &quot;round&quot;, &quot;noClip&quot;: false, &quot;opacity&quot;: 0.8, &quot;smoothFactor&quot;: 1.0, &quot;stroke&quot;: true, &quot;weight&quot;: 3}\n",
       "            ).addTo(map_8ae41f91c075ac9bffda12cc8f18e3fd);\n",
       "        \n",
       "    \n",
       "                var lat_lng_popup_c50921e36d96da53906e5288839b5fec = L.popup();\n",
       "                function latLngPop(e) {\n",
       "                    lat_lng_popup_c50921e36d96da53906e5288839b5fec\n",
       "                        .setLatLng(e.latlng)\n",
       "                        .setContent(&quot;Latitude: &quot; + e.latlng.lat.toFixed(4) +\n",
       "                                    &quot;&lt;br&gt;Longitude: &quot; + e.latlng.lng.toFixed(4))\n",
       "                        .openOn(map_8ae41f91c075ac9bffda12cc8f18e3fd);\n",
       "                    }\n",
       "                map_8ae41f91c075ac9bffda12cc8f18e3fd.on(&#x27;click&#x27;, latLngPop);\n",
       "            \n",
       "&lt;/script&gt;\" style=\"position:absolute;width:100%;height:100%;left:0;top:0;border:none !important;\" allowfullscreen webkitallowfullscreen mozallowfullscreen></iframe></div></div>"
      ],
      "text/plain": [
       "<folium.folium.Map at 0x7ff3c86814c0>"
      ]
     },
     "execution_count": 3,
     "metadata": {},
     "output_type": "execute_result"
    }
   ],
   "source": [
    "gdf = gpd.read_file('shp/Model_Domain.shp')\n",
    "bounds=gpd.GeoDataFrame(gdf).to_crs(\"EPSG:4326\").bounds\n",
    "\n",
    "#bounds need to be slightly larger for later clip to work\n",
    "lon=(bounds.minx,bounds.maxx)\n",
    "lat=(bounds.miny,bounds.maxy)\n",
    "display_map(x=lon, y=lat)"
   ]
  },
  {
   "cell_type": "code",
   "execution_count": 9,
   "id": "6fac84a5-4dde-4597-8431-5119e12234cc",
   "metadata": {},
   "outputs": [],
   "source": [
    "# Build query and load data\n",
    "\n",
    "for year in range(1990, 2021, 5):\n",
    "    query = {\n",
    "        \"y\": lat,\n",
    "        \"x\": lon,\n",
    "        \"time\": (str(year-4), str(year)),\n",
    "    }\n",
    "\n",
    "    # Load DEA Land Cover data from the datacube\n",
    "    land_cover_data = dc.load(\n",
    "        product=\"ga_ls_landcover_class_cyear_2\",\n",
    "        output_crs=\"EPSG:3577\",\n",
    "        #measurements=[\"level3\", \"level4\", \"waterper_wat_cat_l4d_au\"],\n",
    "        measurements=[\"lifeform\",\"water_state\",\"level3\"],\n",
    "        resolution=(-25, 25),\n",
    "        **query\n",
    "    )\n",
    "    \n",
    "    woody=land_cover_data.lifeform.median(dim='time')\n",
    "    woody=reclassify(woody,bins=[0,1,2],new_values=[np.nan,0,1])\n",
    "    write_cog(geo_im=woody.astype(np.int16),\n",
    "          fname='5yrMedian/Woody_' + str(year -4) + '-' + str(year) +'.tif',\n",
    "          overwrite=True)\n",
    "    \n",
    "    water=land_cover_data.water_state.median(dim='time')\n",
    "    write_cog(geo_im=water.astype(np.int16),\n",
    "          fname='5yrMedian/Water_' + str(year -4) + '-' + str(year) +'.tif',\n",
    "          overwrite=True)\n",
    "                      \n",
    "    artificial=land_cover_data.level3.median(dim='time')\n",
    "    artificial=reclassify(artificial,bins=[0,111,112,124,215,216,220],new_values=[np.nan,0,0,0,1,1,0]) #looking at Mt Gambier and Millicent, 'natural bare surface' aligns with built up areas as well as artifical surface.\n",
    "    write_cog(geo_im=artificial.astype(np.int16),\n",
    "          fname='5yrMedian/Artificial_' + str(year -4) + '-' + str(year) +'.tif',\n",
    "          overwrite=True)\n",
    "    "
   ]
  },
  {
   "cell_type": "code",
   "execution_count": null,
   "id": "d6f895f2-3691-4874-b3ef-1bc1414d2495",
   "metadata": {},
   "outputs": [],
   "source": []
  }
 ],
 "metadata": {
  "kernelspec": {
   "display_name": "Python 3 (ipykernel)",
   "language": "python",
   "name": "python3"
  },
  "language_info": {
   "codemirror_mode": {
    "name": "ipython",
    "version": 3
   },
   "file_extension": ".py",
   "mimetype": "text/x-python",
   "name": "python",
   "nbconvert_exporter": "python",
   "pygments_lexer": "ipython3",
   "version": "3.8.10"
  },
  "widgets": {
   "application/vnd.jupyter.widget-state+json": {
    "state": {},
    "version_major": 2,
    "version_minor": 0
   }
  }
 },
 "nbformat": 4,
 "nbformat_minor": 5
}
